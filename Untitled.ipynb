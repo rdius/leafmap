{
 "cells": [
  {
   "cell_type": "code",
   "execution_count": 4,
   "id": "ebe8de3c",
   "metadata": {},
   "outputs": [],
   "source": [
    "import leafmap\n",
    "import streamlit as st\n",
    "import os\n",
    "import inspect\n",
    "import leafmap\n",
    "import streamlit as st\n",
    "import streamlit.components.v1 as components\n",
    "import folium\n",
    "from streamlit_folium import st_folium as st_f\n",
    "#from dotenv import dotenv_values\n",
    "#m = leafmap.Map()\n",
    "\n",
    "\n",
    "\n",
    "DEFAULT_MAP_SPECS = dict(height=450, width=600)  # in px\n",
    "APP_TITLE = 'TECHNATIUM'\n",
    "LOGO = \"https://technatium.com/wp-content/uploads/2022/09/cropped-TECHNATIUM-LOGO-SANSFOND.png\"\n"
   ]
  },
  {
   "cell_type": "code",
   "execution_count": 5,
   "id": "971f4cc3",
   "metadata": {},
   "outputs": [],
   "source": [
    "def add_code_logo(logowidth: str = \"500px\"):\n",
    "    CODE_LOGO = \"https://technatium.com/wp-content/uploads/2022/09/cropped-TECHNATIUM-LOGO-SANSFOND.png\" #\"https://www.pngitem.com/pimgs/m/77-779399_transparent-homework-icon-png-blue-code-icon-png.png\"\n",
    "    st.markdown(\n",
    "        f'<img src=\"{CODE_LOGO}\" width=\"{logowidth}\"/>',\n",
    "        unsafe_allow_html=True,\n",
    "    )\n"
   ]
  },
  {
   "cell_type": "code",
   "execution_count": 6,
   "id": "3985334f",
   "metadata": {},
   "outputs": [],
   "source": [
    "#@st.cache(suppress_st_warning=True)\n",
    "def add_title(uselogo: bool = True, logowidth: str='500px'):\n",
    "    col1, col2 = st.columns(2)\n",
    "    with col1:\n",
    "        st.write(f'# {APP_TITLE}')\n",
    "    with col2:\n",
    "        if uselogo:\n",
    "            st.markdown(\n",
    "                f'<img src=\"{LOGO}\" width=\"{logowidth}\"/>',\n",
    "                unsafe_allow_html=True,\n",
    "            )\n"
   ]
  },
  {
   "cell_type": "code",
   "execution_count": 21,
   "id": "03964aee",
   "metadata": {},
   "outputs": [],
   "source": [
    "def app(wide_layout: bool=False):\n",
    "\n",
    "    if wide_layout:\n",
    "        layout = 'wide'\n",
    "    st.set_page_config(layout=layout, page_icon=LOGO, page_title=APP_TITLE)\n",
    "\n",
    "    add_title(uselogo=True, logowidth='250px')\n",
    "\n",
    "    map_specs = DEFAULT_MAP_SPECS\n",
    "\n",
    "    # for k, v in CONFIG.items():\n",
    "    #     st.write(f\"- `{k}`\\t\\t: \\t{v}\")\n",
    "    #os.environ[\"PLANET_API_KEY\"] = CONFIG.get(\"PLANET_API_KEY\")\n",
    "\n",
    "    m = leafmap.Map(center=[ -5.522593,142.087091],zoom=2,google_map=\"TERRAIN\")#                    google_map=\"HYBRID\")\n",
    "    #m = leafmap.Map()\n",
    "    #m.add_tile_layer(\n",
    "     #   url=\"https://mt1.google.com/vt/lyrs=y&x={x}&y={y}&z={z}\",\n",
    "     #   name=\"Google Sat\",\n",
    "     #   attribution=\"Google\",\n",
    "    #)\n",
    "    #in_geojson = 'https://raw.githubusercontent.com/giswqs/leafmap/master/examples/data/cable_geo.geojson'\n",
    "    #m.add_geojson(in_geojson, layer_name=\"Cable lines\")\n",
    "    url = \"https://raw.githubusercontent.com/giswqs/leafmap/master/examples/data/countries.geojson\"\n",
    "    #streamlit run your_script.py --server.maxUploadSize 200\n",
    "    style = {\n",
    "    \"stroke\": True,\n",
    "    \"color\": \"#0000ff\",\n",
    "    \"weight\": 2,\n",
    "    \"opacity\": 1,\n",
    "    \"fill\": True,\n",
    "    \"fillColor\": \"#0000ff\",\n",
    "    \"fillOpacity\": 0.1,}\n",
    "\n",
    "    hover_style = {\"fillOpacity\": 0.7}\n",
    "    #m.add_geojson(        url, layer_name=\"Countries\",style=style, hover_style=hover_style)\n",
    "    #census_data = 'country_census.geojson'\n",
    "    trees = \"trees.geojson\"\n",
    "    m.add_geojson(\n",
    "        trees, layer_name=\"trees\",style=style, hover_style=hover_style)\n",
    "    buildings = \"building.geojson\"\n",
    "   # m.add_geojson(\n",
    "#    buildings, layer_name=\"buidings\",style=style, hover_style=hover_style)\n",
    "\n",
    "    # Show map by loading html\n",
    "    components.html(\n",
    "        m.to_html(),\n",
    "        width=map_specs['width'] * 2,\n",
    "        height=map_specs['height'] * 1.5,\n",
    "    )\n"
   ]
  },
  {
   "cell_type": "code",
   "execution_count": 22,
   "id": "eec85777",
   "metadata": {
    "collapsed": true
   },
   "outputs": [
    {
     "ename": "Exception",
     "evalue": "'NoneType' object has no attribute 'comm_id'",
     "output_type": "error",
     "traceback": [
      "\u001b[0;31m---------------------------------------------------------------------------\u001b[0m",
      "\u001b[0;31mAttributeError\u001b[0m                            Traceback (most recent call last)",
      "\u001b[0;32m~/.local/lib/python3.10/site-packages/leafmap/leafmap.py\u001b[0m in \u001b[0;36mto_html\u001b[0;34m(self, outfile, title, width, height, add_layer_control, **kwargs)\u001b[0m\n\u001b[1;32m   1723\u001b[0m \u001b[0;34m\u001b[0m\u001b[0m\n\u001b[0;32m-> 1724\u001b[0;31m             \u001b[0mself\u001b[0m\u001b[0;34m.\u001b[0m\u001b[0msave\u001b[0m\u001b[0;34m(\u001b[0m\u001b[0moutfile\u001b[0m\u001b[0;34m,\u001b[0m \u001b[0mtitle\u001b[0m\u001b[0;34m=\u001b[0m\u001b[0mtitle\u001b[0m\u001b[0;34m,\u001b[0m \u001b[0;34m**\u001b[0m\u001b[0mkwargs\u001b[0m\u001b[0;34m)\u001b[0m\u001b[0;34m\u001b[0m\u001b[0;34m\u001b[0m\u001b[0m\n\u001b[0m\u001b[1;32m   1725\u001b[0m \u001b[0;34m\u001b[0m\u001b[0m\n",
      "\u001b[0;32m~/.local/lib/python3.10/site-packages/ipyleaflet/leaflet.py\u001b[0m in \u001b[0;36msave\u001b[0;34m(self, outfile, **kwargs)\u001b[0m\n\u001b[1;32m   2517\u001b[0m         \"\"\"\n\u001b[0;32m-> 2518\u001b[0;31m         \u001b[0membed_minimal_html\u001b[0m\u001b[0;34m(\u001b[0m\u001b[0moutfile\u001b[0m\u001b[0;34m,\u001b[0m \u001b[0mviews\u001b[0m\u001b[0;34m=\u001b[0m\u001b[0;34m[\u001b[0m\u001b[0mself\u001b[0m\u001b[0;34m]\u001b[0m\u001b[0;34m,\u001b[0m \u001b[0;34m**\u001b[0m\u001b[0mkwargs\u001b[0m\u001b[0;34m)\u001b[0m\u001b[0;34m\u001b[0m\u001b[0;34m\u001b[0m\u001b[0m\n\u001b[0m\u001b[1;32m   2519\u001b[0m \u001b[0;34m\u001b[0m\u001b[0m\n",
      "\u001b[0;32m~/.local/lib/python3.10/site-packages/ipywidgets/embed.py\u001b[0m in \u001b[0;36membed_minimal_html\u001b[0;34m(fp, views, title, template, **kwargs)\u001b[0m\n\u001b[1;32m    301\u001b[0m     \"\"\"\n\u001b[0;32m--> 302\u001b[0;31m     \u001b[0msnippet\u001b[0m \u001b[0;34m=\u001b[0m \u001b[0membed_snippet\u001b[0m\u001b[0;34m(\u001b[0m\u001b[0mviews\u001b[0m\u001b[0;34m,\u001b[0m \u001b[0;34m**\u001b[0m\u001b[0mkwargs\u001b[0m\u001b[0;34m)\u001b[0m\u001b[0;34m\u001b[0m\u001b[0;34m\u001b[0m\u001b[0m\n\u001b[0m\u001b[1;32m    303\u001b[0m \u001b[0;34m\u001b[0m\u001b[0m\n",
      "\u001b[0;32m~/.local/lib/python3.10/site-packages/ipywidgets/embed.py\u001b[0m in \u001b[0;36membed_snippet\u001b[0;34m(views, drop_defaults, state, indent, embed_url, requirejs, cors)\u001b[0m\n\u001b[1;32m    263\u001b[0m \u001b[0;34m\u001b[0m\u001b[0m\n\u001b[0;32m--> 264\u001b[0;31m     \u001b[0mdata\u001b[0m \u001b[0;34m=\u001b[0m \u001b[0membed_data\u001b[0m\u001b[0;34m(\u001b[0m\u001b[0mviews\u001b[0m\u001b[0;34m,\u001b[0m \u001b[0mdrop_defaults\u001b[0m\u001b[0;34m=\u001b[0m\u001b[0mdrop_defaults\u001b[0m\u001b[0;34m,\u001b[0m \u001b[0mstate\u001b[0m\u001b[0;34m=\u001b[0m\u001b[0mstate\u001b[0m\u001b[0;34m)\u001b[0m\u001b[0;34m\u001b[0m\u001b[0;34m\u001b[0m\u001b[0m\n\u001b[0m\u001b[1;32m    265\u001b[0m \u001b[0;34m\u001b[0m\u001b[0m\n",
      "\u001b[0;32m~/.local/lib/python3.10/site-packages/ipywidgets/embed.py\u001b[0m in \u001b[0;36membed_data\u001b[0;34m(views, drop_defaults, state)\u001b[0m\n\u001b[1;32m    218\u001b[0m         \u001b[0;31m# Get state of all known widgets\u001b[0m\u001b[0;34m\u001b[0m\u001b[0;34m\u001b[0m\u001b[0m\n\u001b[0;32m--> 219\u001b[0;31m         \u001b[0mstate\u001b[0m \u001b[0;34m=\u001b[0m \u001b[0mWidget\u001b[0m\u001b[0;34m.\u001b[0m\u001b[0mget_manager_state\u001b[0m\u001b[0;34m(\u001b[0m\u001b[0mdrop_defaults\u001b[0m\u001b[0;34m=\u001b[0m\u001b[0mdrop_defaults\u001b[0m\u001b[0;34m,\u001b[0m \u001b[0mwidgets\u001b[0m\u001b[0;34m=\u001b[0m\u001b[0;32mNone\u001b[0m\u001b[0;34m)\u001b[0m\u001b[0;34m[\u001b[0m\u001b[0;34m'state'\u001b[0m\u001b[0;34m]\u001b[0m\u001b[0;34m\u001b[0m\u001b[0;34m\u001b[0m\u001b[0m\n\u001b[0m\u001b[1;32m    220\u001b[0m \u001b[0;34m\u001b[0m\u001b[0m\n",
      "\u001b[0;32m~/.local/lib/python3.10/site-packages/ipywidgets/widgets/widget.py\u001b[0m in \u001b[0;36mget_manager_state\u001b[0;34m(drop_defaults, widgets)\u001b[0m\n\u001b[1;32m    417\u001b[0m         \u001b[0;32mfor\u001b[0m \u001b[0mwidget\u001b[0m \u001b[0;32min\u001b[0m \u001b[0mwidgets\u001b[0m\u001b[0;34m:\u001b[0m\u001b[0;34m\u001b[0m\u001b[0;34m\u001b[0m\u001b[0m\n\u001b[0;32m--> 418\u001b[0;31m             \u001b[0mstate\u001b[0m\u001b[0;34m[\u001b[0m\u001b[0mwidget\u001b[0m\u001b[0;34m.\u001b[0m\u001b[0mmodel_id\u001b[0m\u001b[0;34m]\u001b[0m \u001b[0;34m=\u001b[0m \u001b[0mwidget\u001b[0m\u001b[0;34m.\u001b[0m\u001b[0m_get_embed_state\u001b[0m\u001b[0;34m(\u001b[0m\u001b[0mdrop_defaults\u001b[0m\u001b[0;34m=\u001b[0m\u001b[0mdrop_defaults\u001b[0m\u001b[0;34m)\u001b[0m\u001b[0;34m\u001b[0m\u001b[0;34m\u001b[0m\u001b[0m\n\u001b[0m\u001b[1;32m    419\u001b[0m         \u001b[0;32mreturn\u001b[0m \u001b[0;34m{\u001b[0m\u001b[0;34m'version_major'\u001b[0m\u001b[0;34m:\u001b[0m \u001b[0;36m2\u001b[0m\u001b[0;34m,\u001b[0m \u001b[0;34m'version_minor'\u001b[0m\u001b[0;34m:\u001b[0m \u001b[0;36m0\u001b[0m\u001b[0;34m,\u001b[0m \u001b[0;34m'state'\u001b[0m\u001b[0;34m:\u001b[0m \u001b[0mstate\u001b[0m\u001b[0;34m}\u001b[0m\u001b[0;34m\u001b[0m\u001b[0;34m\u001b[0m\u001b[0m\n",
      "\u001b[0;32m~/.local/lib/python3.10/site-packages/ipywidgets/widgets/widget.py\u001b[0m in \u001b[0;36m_get_embed_state\u001b[0;34m(self, drop_defaults)\u001b[0m\n\u001b[1;32m    426\u001b[0m         }\n\u001b[0;32m--> 427\u001b[0;31m         \u001b[0mmodel_state\u001b[0m\u001b[0;34m,\u001b[0m \u001b[0mbuffer_paths\u001b[0m\u001b[0;34m,\u001b[0m \u001b[0mbuffers\u001b[0m \u001b[0;34m=\u001b[0m \u001b[0m_remove_buffers\u001b[0m\u001b[0;34m(\u001b[0m\u001b[0mself\u001b[0m\u001b[0;34m.\u001b[0m\u001b[0mget_state\u001b[0m\u001b[0;34m(\u001b[0m\u001b[0mdrop_defaults\u001b[0m\u001b[0;34m=\u001b[0m\u001b[0mdrop_defaults\u001b[0m\u001b[0;34m)\u001b[0m\u001b[0;34m)\u001b[0m\u001b[0;34m\u001b[0m\u001b[0;34m\u001b[0m\u001b[0m\n\u001b[0m\u001b[1;32m    428\u001b[0m         \u001b[0mstate\u001b[0m\u001b[0;34m[\u001b[0m\u001b[0;34m'state'\u001b[0m\u001b[0;34m]\u001b[0m \u001b[0;34m=\u001b[0m \u001b[0mmodel_state\u001b[0m\u001b[0;34m\u001b[0m\u001b[0;34m\u001b[0m\u001b[0m\n",
      "\u001b[0;32m~/.local/lib/python3.10/site-packages/ipywidgets/widgets/widget.py\u001b[0m in \u001b[0;36mget_state\u001b[0;34m(self, key, drop_defaults)\u001b[0m\n\u001b[1;32m    582\u001b[0m             \u001b[0mto_json\u001b[0m \u001b[0;34m=\u001b[0m \u001b[0mself\u001b[0m\u001b[0;34m.\u001b[0m\u001b[0mtrait_metadata\u001b[0m\u001b[0;34m(\u001b[0m\u001b[0mk\u001b[0m\u001b[0;34m,\u001b[0m \u001b[0;34m'to_json'\u001b[0m\u001b[0;34m,\u001b[0m \u001b[0mself\u001b[0m\u001b[0;34m.\u001b[0m\u001b[0m_trait_to_json\u001b[0m\u001b[0;34m)\u001b[0m\u001b[0;34m\u001b[0m\u001b[0;34m\u001b[0m\u001b[0m\n\u001b[0;32m--> 583\u001b[0;31m             \u001b[0mvalue\u001b[0m \u001b[0;34m=\u001b[0m \u001b[0mto_json\u001b[0m\u001b[0;34m(\u001b[0m\u001b[0mgetattr\u001b[0m\u001b[0;34m(\u001b[0m\u001b[0mself\u001b[0m\u001b[0;34m,\u001b[0m \u001b[0mk\u001b[0m\u001b[0;34m)\u001b[0m\u001b[0;34m,\u001b[0m \u001b[0mself\u001b[0m\u001b[0;34m)\u001b[0m\u001b[0;34m\u001b[0m\u001b[0;34m\u001b[0m\u001b[0m\n\u001b[0m\u001b[1;32m    584\u001b[0m             \u001b[0;32mif\u001b[0m \u001b[0;32mnot\u001b[0m \u001b[0mPY3\u001b[0m \u001b[0;32mand\u001b[0m \u001b[0misinstance\u001b[0m\u001b[0;34m(\u001b[0m\u001b[0mtraits\u001b[0m\u001b[0;34m[\u001b[0m\u001b[0mk\u001b[0m\u001b[0;34m]\u001b[0m\u001b[0;34m,\u001b[0m \u001b[0mBytes\u001b[0m\u001b[0;34m)\u001b[0m \u001b[0;32mand\u001b[0m \u001b[0misinstance\u001b[0m\u001b[0;34m(\u001b[0m\u001b[0mvalue\u001b[0m\u001b[0;34m,\u001b[0m \u001b[0mbytes\u001b[0m\u001b[0;34m)\u001b[0m\u001b[0;34m:\u001b[0m\u001b[0;34m\u001b[0m\u001b[0;34m\u001b[0m\u001b[0m\n",
      "\u001b[0;32m~/.local/lib/python3.10/site-packages/ipywidgets/widgets/widget.py\u001b[0m in \u001b[0;36m_widget_to_json\u001b[0;34m(x, obj)\u001b[0m\n\u001b[1;32m     56\u001b[0m     \u001b[0;32melif\u001b[0m \u001b[0misinstance\u001b[0m\u001b[0;34m(\u001b[0m\u001b[0mx\u001b[0m\u001b[0;34m,\u001b[0m \u001b[0mWidget\u001b[0m\u001b[0;34m)\u001b[0m\u001b[0;34m:\u001b[0m\u001b[0;34m\u001b[0m\u001b[0;34m\u001b[0m\u001b[0m\n\u001b[0;32m---> 57\u001b[0;31m         \u001b[0;32mreturn\u001b[0m \u001b[0;34m\"IPY_MODEL_\"\u001b[0m \u001b[0;34m+\u001b[0m \u001b[0mx\u001b[0m\u001b[0;34m.\u001b[0m\u001b[0mmodel_id\u001b[0m\u001b[0;34m\u001b[0m\u001b[0;34m\u001b[0m\u001b[0m\n\u001b[0m\u001b[1;32m     58\u001b[0m     \u001b[0;32melse\u001b[0m\u001b[0;34m:\u001b[0m\u001b[0;34m\u001b[0m\u001b[0;34m\u001b[0m\u001b[0m\n",
      "\u001b[0;32m~/.local/lib/python3.10/site-packages/ipywidgets/widgets/widget.py\u001b[0m in \u001b[0;36mmodel_id\u001b[0;34m(self)\u001b[0m\n\u001b[1;32m    519\u001b[0m         If a Comm doesn't exist yet, a Comm will be created automagically.\"\"\"\n\u001b[0;32m--> 520\u001b[0;31m         \u001b[0;32mreturn\u001b[0m \u001b[0mself\u001b[0m\u001b[0;34m.\u001b[0m\u001b[0mcomm\u001b[0m\u001b[0;34m.\u001b[0m\u001b[0mcomm_id\u001b[0m\u001b[0;34m\u001b[0m\u001b[0;34m\u001b[0m\u001b[0m\n\u001b[0m\u001b[1;32m    521\u001b[0m \u001b[0;34m\u001b[0m\u001b[0m\n",
      "\u001b[0;31mAttributeError\u001b[0m: 'NoneType' object has no attribute 'comm_id'",
      "\nDuring handling of the above exception, another exception occurred:\n",
      "\u001b[0;31mException\u001b[0m                                 Traceback (most recent call last)",
      "\u001b[0;32m/tmp/ipykernel_23441/3466695683.py\u001b[0m in \u001b[0;36m<module>\u001b[0;34m\u001b[0m\n\u001b[0;32m----> 1\u001b[0;31m \u001b[0mapp\u001b[0m\u001b[0;34m(\u001b[0m\u001b[0mwide_layout\u001b[0m\u001b[0;34m=\u001b[0m\u001b[0;32mTrue\u001b[0m\u001b[0;34m)\u001b[0m\u001b[0;34m\u001b[0m\u001b[0;34m\u001b[0m\u001b[0m\n\u001b[0m",
      "\u001b[0;32m/tmp/ipykernel_23441/3086108136.py\u001b[0m in \u001b[0;36mapp\u001b[0;34m(wide_layout)\u001b[0m\n\u001b[1;32m     45\u001b[0m     \u001b[0;31m# Show map by loading html\u001b[0m\u001b[0;34m\u001b[0m\u001b[0;34m\u001b[0m\u001b[0m\n\u001b[1;32m     46\u001b[0m     components.html(\n\u001b[0;32m---> 47\u001b[0;31m         \u001b[0mm\u001b[0m\u001b[0;34m.\u001b[0m\u001b[0mto_html\u001b[0m\u001b[0;34m(\u001b[0m\u001b[0;34m)\u001b[0m\u001b[0;34m,\u001b[0m\u001b[0;34m\u001b[0m\u001b[0;34m\u001b[0m\u001b[0m\n\u001b[0m\u001b[1;32m     48\u001b[0m         \u001b[0mwidth\u001b[0m\u001b[0;34m=\u001b[0m\u001b[0mmap_specs\u001b[0m\u001b[0;34m[\u001b[0m\u001b[0;34m'width'\u001b[0m\u001b[0;34m]\u001b[0m \u001b[0;34m*\u001b[0m \u001b[0;36m2\u001b[0m\u001b[0;34m,\u001b[0m\u001b[0;34m\u001b[0m\u001b[0;34m\u001b[0m\u001b[0m\n\u001b[1;32m     49\u001b[0m         \u001b[0mheight\u001b[0m\u001b[0;34m=\u001b[0m\u001b[0mmap_specs\u001b[0m\u001b[0;34m[\u001b[0m\u001b[0;34m'height'\u001b[0m\u001b[0;34m]\u001b[0m \u001b[0;34m*\u001b[0m \u001b[0;36m1.5\u001b[0m\u001b[0;34m,\u001b[0m\u001b[0;34m\u001b[0m\u001b[0;34m\u001b[0m\u001b[0m\n",
      "\u001b[0;32m~/.local/lib/python3.10/site-packages/leafmap/leafmap.py\u001b[0m in \u001b[0;36mto_html\u001b[0;34m(self, outfile, title, width, height, add_layer_control, **kwargs)\u001b[0m\n\u001b[1;32m   1736\u001b[0m \u001b[0;34m\u001b[0m\u001b[0m\n\u001b[1;32m   1737\u001b[0m         \u001b[0;32mexcept\u001b[0m \u001b[0mException\u001b[0m \u001b[0;32mas\u001b[0m \u001b[0me\u001b[0m\u001b[0;34m:\u001b[0m\u001b[0;34m\u001b[0m\u001b[0;34m\u001b[0m\u001b[0m\n\u001b[0;32m-> 1738\u001b[0;31m             \u001b[0;32mraise\u001b[0m \u001b[0mException\u001b[0m\u001b[0;34m(\u001b[0m\u001b[0me\u001b[0m\u001b[0;34m)\u001b[0m\u001b[0;34m\u001b[0m\u001b[0;34m\u001b[0m\u001b[0m\n\u001b[0m\u001b[1;32m   1739\u001b[0m \u001b[0;34m\u001b[0m\u001b[0m\n\u001b[1;32m   1740\u001b[0m     \u001b[0;32mdef\u001b[0m \u001b[0mto_image\u001b[0m\u001b[0;34m(\u001b[0m\u001b[0mself\u001b[0m\u001b[0;34m,\u001b[0m \u001b[0moutfile\u001b[0m\u001b[0;34m=\u001b[0m\u001b[0;32mNone\u001b[0m\u001b[0;34m,\u001b[0m \u001b[0mmonitor\u001b[0m\u001b[0;34m=\u001b[0m\u001b[0;36m1\u001b[0m\u001b[0;34m)\u001b[0m\u001b[0;34m:\u001b[0m\u001b[0;34m\u001b[0m\u001b[0;34m\u001b[0m\u001b[0m\n",
      "\u001b[0;31mException\u001b[0m: 'NoneType' object has no attribute 'comm_id'"
     ]
    }
   ],
   "source": [
    "app(wide_layout=True)"
   ]
  },
  {
   "cell_type": "code",
   "execution_count": 47,
   "id": "137efcac",
   "metadata": {
    "scrolled": true
   },
   "outputs": [],
   "source": [
    "m = leafmap.Map(center=[-5.153611507690168,151.1309892233639],zoom=20,google_map=\"HYBRID\")"
   ]
  },
  {
   "cell_type": "code",
   "execution_count": 48,
   "id": "463a8d90",
   "metadata": {},
   "outputs": [],
   "source": [
    "style = {\n",
    "\"stroke\": True,\n",
    "\"color\": \"#0000ff\",\n",
    "\"weight\": 2,\n",
    "\"opacity\": 1,\n",
    "\"fill\": True,\n",
    "\"fillColor\": \"#0000ff\",\n",
    "\"fillOpacity\": 0.1,}\n",
    "\n",
    "hover_style = {\"fillOpacity\": 0.7}"
   ]
  },
  {
   "cell_type": "code",
   "execution_count": 49,
   "id": "d038412f",
   "metadata": {},
   "outputs": [
    {
     "data": {
      "application/vnd.jupyter.widget-view+json": {
       "model_id": "cbb4b22a2b944979853caaae841f2d64",
       "version_major": 2,
       "version_minor": 0
      },
      "text/plain": [
       "Map(center=[-5.153611507690168, 151.1309892233639], controls=(ZoomControl(options=['position', 'zoom_in_text',…"
      ]
     },
     "metadata": {},
     "output_type": "display_data"
    }
   ],
   "source": [
    "trees = \"trees.geojson\"\n",
    "m.add_geojson(\n",
    "    trees, layer_name=\"trees\",style=style, hover_style=hover_style)\n",
    "\n",
    "buildings = \"building.geojson\"\n",
    "m.add_geojson(\n",
    "    buildings, layer_name=\"buidings\",style=style, hover_style=hover_style)\n",
    "\n",
    "m"
   ]
  },
  {
   "cell_type": "code",
   "execution_count": null,
   "id": "b349e9e3",
   "metadata": {},
   "outputs": [],
   "source": []
  },
  {
   "cell_type": "code",
   "execution_count": null,
   "id": "dbe5387e",
   "metadata": {},
   "outputs": [],
   "source": [
    "#########################################################\"\""
   ]
  },
  {
   "cell_type": "code",
   "execution_count": 5,
   "id": "00bb3983",
   "metadata": {},
   "outputs": [
    {
     "data": {
      "text/plain": [
       "<folium.map.LayerControl at 0x7f18dd7b5480>"
      ]
     },
     "execution_count": 5,
     "metadata": {},
     "output_type": "execute_result"
    }
   ],
   "source": [
    "import folium\n",
    "\n",
    "# define the center and zoom level of your map\n",
    "center = [37.7749, -122.4194]\n",
    "zoom = 13\n",
    "\n",
    "# define the tile URLs for the two dates you want to display\n",
    "url_1 = 'https://services.digitalglobe.com/mapservice/wmtsaccess?layer=DigitalGlobe:ImageryTileService&tilematrixset=EPSG:3857&Service=WMTS&Request=GetTile&Version=1.0.0&Format=image/png&TileMatrix={z}&TileCol={x}&TileRow={y}&time=1980-15-01T00:00:00.000Z'\n",
    "url_2 = 'https://services.digitalglobe.com/mapservice/wmtsaccess?layer=DigitalGlobe:ImageryTileService&tilematrixset=EPSG:3857&Service=WMTS&Request=GetTile&Version=1.0.0&Format=image/png&TileMatrix={z}&TileCol={x}&TileRow={y}&time=2021-30-01T00:00:00.000Z'\n",
    "\n",
    "# create a map object\n",
    "my_map = folium.Map(location=center, zoom_start=zoom)\n",
    "\n",
    "# create a tile layer for each date and add it to the map\n",
    "folium.TileLayer(tiles=url_1, attr='DigitalGlobe', name='2019 Imagery', overlay=True, control=True).add_to(my_map)\n",
    "folium.TileLayer(tiles=url_2, attr='DigitalGlobe', name='2021 Imagery', overlay=True, control=True).add_to(my_map)\n",
    "\n",
    "# add layer control to the map\n",
    "folium.LayerControl().add_to(my_map)\n"
   ]
  },
  {
   "cell_type": "code",
   "execution_count": 6,
   "id": "f39c7a0c",
   "metadata": {},
   "outputs": [
    {
     "data": {
      "text/html": [
       "<div style=\"width:100%;\"><div style=\"position:relative;width:100%;height:0;padding-bottom:60%;\"><span style=\"color:#565656\">Make this Notebook Trusted to load map: File -> Trust Notebook</span><iframe srcdoc=\"&lt;!DOCTYPE html&gt;\n",
       "&lt;html&gt;\n",
       "&lt;head&gt;\n",
       "    \n",
       "    &lt;meta http-equiv=&quot;content-type&quot; content=&quot;text/html; charset=UTF-8&quot; /&gt;\n",
       "    \n",
       "        &lt;script&gt;\n",
       "            L_NO_TOUCH = false;\n",
       "            L_DISABLE_3D = false;\n",
       "        &lt;/script&gt;\n",
       "    \n",
       "    &lt;style&gt;html, body {width: 100%;height: 100%;margin: 0;padding: 0;}&lt;/style&gt;\n",
       "    &lt;style&gt;#map {position:absolute;top:0;bottom:0;right:0;left:0;}&lt;/style&gt;\n",
       "    &lt;script src=&quot;https://cdn.jsdelivr.net/npm/leaflet@1.9.3/dist/leaflet.js&quot;&gt;&lt;/script&gt;\n",
       "    &lt;script src=&quot;https://code.jquery.com/jquery-1.12.4.min.js&quot;&gt;&lt;/script&gt;\n",
       "    &lt;script src=&quot;https://cdn.jsdelivr.net/npm/bootstrap@5.2.2/dist/js/bootstrap.bundle.min.js&quot;&gt;&lt;/script&gt;\n",
       "    &lt;script src=&quot;https://cdnjs.cloudflare.com/ajax/libs/Leaflet.awesome-markers/2.0.2/leaflet.awesome-markers.js&quot;&gt;&lt;/script&gt;\n",
       "    &lt;link rel=&quot;stylesheet&quot; href=&quot;https://cdn.jsdelivr.net/npm/leaflet@1.9.3/dist/leaflet.css&quot;/&gt;\n",
       "    &lt;link rel=&quot;stylesheet&quot; href=&quot;https://cdn.jsdelivr.net/npm/bootstrap@5.2.2/dist/css/bootstrap.min.css&quot;/&gt;\n",
       "    &lt;link rel=&quot;stylesheet&quot; href=&quot;https://netdna.bootstrapcdn.com/bootstrap/3.0.0/css/bootstrap.min.css&quot;/&gt;\n",
       "    &lt;link rel=&quot;stylesheet&quot; href=&quot;https://cdn.jsdelivr.net/npm/@fortawesome/fontawesome-free@6.2.0/css/all.min.css&quot;/&gt;\n",
       "    &lt;link rel=&quot;stylesheet&quot; href=&quot;https://cdnjs.cloudflare.com/ajax/libs/Leaflet.awesome-markers/2.0.2/leaflet.awesome-markers.css&quot;/&gt;\n",
       "    &lt;link rel=&quot;stylesheet&quot; href=&quot;https://cdn.jsdelivr.net/gh/python-visualization/folium/folium/templates/leaflet.awesome.rotate.min.css&quot;/&gt;\n",
       "    \n",
       "            &lt;meta name=&quot;viewport&quot; content=&quot;width=device-width,\n",
       "                initial-scale=1.0, maximum-scale=1.0, user-scalable=no&quot; /&gt;\n",
       "            &lt;style&gt;\n",
       "                #map_14caf4a60429f677d826416218e74b1d {\n",
       "                    position: relative;\n",
       "                    width: 100.0%;\n",
       "                    height: 100.0%;\n",
       "                    left: 0.0%;\n",
       "                    top: 0.0%;\n",
       "                }\n",
       "                .leaflet-container { font-size: 1rem; }\n",
       "            &lt;/style&gt;\n",
       "        \n",
       "&lt;/head&gt;\n",
       "&lt;body&gt;\n",
       "    \n",
       "    \n",
       "            &lt;div class=&quot;folium-map&quot; id=&quot;map_14caf4a60429f677d826416218e74b1d&quot; &gt;&lt;/div&gt;\n",
       "        \n",
       "&lt;/body&gt;\n",
       "&lt;script&gt;\n",
       "    \n",
       "    \n",
       "            var map_14caf4a60429f677d826416218e74b1d = L.map(\n",
       "                &quot;map_14caf4a60429f677d826416218e74b1d&quot;,\n",
       "                {\n",
       "                    center: [37.7749, -122.4194],\n",
       "                    crs: L.CRS.EPSG3857,\n",
       "                    zoom: 13,\n",
       "                    zoomControl: true,\n",
       "                    preferCanvas: false,\n",
       "                }\n",
       "            );\n",
       "\n",
       "            \n",
       "\n",
       "        \n",
       "    \n",
       "            var tile_layer_c5151d02b06fefff372a426baa4c9cff = L.tileLayer(\n",
       "                &quot;https://{s}.tile.openstreetmap.org/{z}/{x}/{y}.png&quot;,\n",
       "                {&quot;attribution&quot;: &quot;Data by \\u0026copy; \\u003ca target=\\&quot;_blank\\&quot; href=\\&quot;http://openstreetmap.org\\&quot;\\u003eOpenStreetMap\\u003c/a\\u003e, under \\u003ca target=\\&quot;_blank\\&quot; href=\\&quot;http://www.openstreetmap.org/copyright\\&quot;\\u003eODbL\\u003c/a\\u003e.&quot;, &quot;detectRetina&quot;: false, &quot;maxNativeZoom&quot;: 18, &quot;maxZoom&quot;: 18, &quot;minZoom&quot;: 0, &quot;noWrap&quot;: false, &quot;opacity&quot;: 1, &quot;subdomains&quot;: &quot;abc&quot;, &quot;tms&quot;: false}\n",
       "            ).addTo(map_14caf4a60429f677d826416218e74b1d);\n",
       "        \n",
       "    \n",
       "            var tile_layer_cd73f4aed1e90c2e5b24559f39284ed1 = L.tileLayer(\n",
       "                &quot;https://services.digitalglobe.com/mapservice/wmtsaccess?layer=DigitalGlobe:ImageryTileService\\u0026tilematrixset=EPSG:3857\\u0026Service=WMTS\\u0026Request=GetTile\\u0026Version=1.0.0\\u0026Format=image/png\\u0026TileMatrix={z}\\u0026TileCol={x}\\u0026TileRow={y}\\u0026time=1980-15-01T00:00:00.000Z&quot;,\n",
       "                {&quot;attribution&quot;: &quot;DigitalGlobe&quot;, &quot;detectRetina&quot;: false, &quot;maxNativeZoom&quot;: 18, &quot;maxZoom&quot;: 18, &quot;minZoom&quot;: 0, &quot;noWrap&quot;: false, &quot;opacity&quot;: 1, &quot;subdomains&quot;: &quot;abc&quot;, &quot;tms&quot;: false}\n",
       "            ).addTo(map_14caf4a60429f677d826416218e74b1d);\n",
       "        \n",
       "    \n",
       "            var tile_layer_28329395814a97d5ca09796d234ab023 = L.tileLayer(\n",
       "                &quot;https://services.digitalglobe.com/mapservice/wmtsaccess?layer=DigitalGlobe:ImageryTileService\\u0026tilematrixset=EPSG:3857\\u0026Service=WMTS\\u0026Request=GetTile\\u0026Version=1.0.0\\u0026Format=image/png\\u0026TileMatrix={z}\\u0026TileCol={x}\\u0026TileRow={y}\\u0026time=2021-30-01T00:00:00.000Z&quot;,\n",
       "                {&quot;attribution&quot;: &quot;DigitalGlobe&quot;, &quot;detectRetina&quot;: false, &quot;maxNativeZoom&quot;: 18, &quot;maxZoom&quot;: 18, &quot;minZoom&quot;: 0, &quot;noWrap&quot;: false, &quot;opacity&quot;: 1, &quot;subdomains&quot;: &quot;abc&quot;, &quot;tms&quot;: false}\n",
       "            ).addTo(map_14caf4a60429f677d826416218e74b1d);\n",
       "        \n",
       "    \n",
       "            var layer_control_03bd18cc97ce73f17d61fed35f2d9c42 = {\n",
       "                base_layers : {\n",
       "                    &quot;openstreetmap&quot; : tile_layer_c5151d02b06fefff372a426baa4c9cff,\n",
       "                },\n",
       "                overlays :  {\n",
       "                    &quot;2019 Imagery&quot; : tile_layer_cd73f4aed1e90c2e5b24559f39284ed1,\n",
       "                    &quot;2021 Imagery&quot; : tile_layer_28329395814a97d5ca09796d234ab023,\n",
       "                },\n",
       "            };\n",
       "            L.control.layers(\n",
       "                layer_control_03bd18cc97ce73f17d61fed35f2d9c42.base_layers,\n",
       "                layer_control_03bd18cc97ce73f17d61fed35f2d9c42.overlays,\n",
       "                {&quot;autoZIndex&quot;: true, &quot;collapsed&quot;: true, &quot;position&quot;: &quot;topright&quot;}\n",
       "            ).addTo(map_14caf4a60429f677d826416218e74b1d);\n",
       "        \n",
       "&lt;/script&gt;\n",
       "&lt;/html&gt;\" style=\"position:absolute;width:100%;height:100%;left:0;top:0;border:none !important;\" allowfullscreen webkitallowfullscreen mozallowfullscreen></iframe></div></div>"
      ],
      "text/plain": [
       "<folium.folium.Map at 0x7f186e0cbaf0>"
      ]
     },
     "execution_count": 6,
     "metadata": {},
     "output_type": "execute_result"
    }
   ],
   "source": [
    "# display the map\n",
    "my_map"
   ]
  },
  {
   "cell_type": "code",
   "execution_count": null,
   "id": "9379432c",
   "metadata": {},
   "outputs": [],
   "source": []
  },
  {
   "cell_type": "code",
   "execution_count": null,
   "id": "47236e6c",
   "metadata": {},
   "outputs": [],
   "source": []
  },
  {
   "cell_type": "code",
   "execution_count": null,
   "id": "bd1942e1",
   "metadata": {},
   "outputs": [],
   "source": []
  },
  {
   "cell_type": "code",
   "execution_count": null,
   "id": "4af012af",
   "metadata": {},
   "outputs": [],
   "source": []
  },
  {
   "cell_type": "code",
   "execution_count": null,
   "id": "ff2a91dc",
   "metadata": {},
   "outputs": [],
   "source": []
  }
 ],
 "metadata": {
  "kernelspec": {
   "display_name": "Python 3 (ipykernel)",
   "language": "python",
   "name": "python3"
  },
  "language_info": {
   "codemirror_mode": {
    "name": "ipython",
    "version": 3
   },
   "file_extension": ".py",
   "mimetype": "text/x-python",
   "name": "python",
   "nbconvert_exporter": "python",
   "pygments_lexer": "ipython3",
   "version": "3.10.6"
  }
 },
 "nbformat": 4,
 "nbformat_minor": 5
}
